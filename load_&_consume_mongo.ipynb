{
 "cells": [
  {
   "cell_type": "code",
   "execution_count": 1,
   "metadata": {},
   "outputs": [],
   "source": [
    "from pymongo import MongoClient\n",
    "import findspark\n",
    "from pyspark.sql import SparkSession\n",
    "findspark.init()"
   ]
  },
  {
   "cell_type": "code",
   "execution_count": 2,
   "metadata": {},
   "outputs": [],
   "source": [
    "client = MongoClient('mongodb://localhost:27017/')\n",
    "db = client['test'] \n",
    "collection_ratings = db[\"ratings\"]\n",
    "collection_movies = db[\"movies\"]\n",
    "collection_users = db[\"users\"]\n",
    "\n",
    "def run_load():\n",
    "\n",
    "    ratings_list = []\n",
    "    with open(r\"ml-1m\\ratings.dat\", encoding= \"latin-1\") as ratings:\n",
    "        lines = ratings.readlines()\n",
    "        for line in lines :\n",
    "            dat = line.replace(\"\\n\",\"\").split(\"::\")\n",
    "            dct = {\n",
    "                \"UserID\": int(dat[0]),\n",
    "                \"MovieID\": int(dat[1]),\n",
    "                \"Rating\": int(dat[2]),\n",
    "                \"Timestamp\" : int(dat[3])\n",
    "                }\n",
    "            ratings_list.append(dct)\n",
    "\n",
    "\n",
    "    movies_list = []\n",
    "    with open(r\"ml-1m\\movies.dat\", encoding= \"latin-1\") as movies:\n",
    "        lines = movies.readlines()\n",
    "        for line in lines :\n",
    "            dat = line.replace(\"\\n\",\"\").split(\"::\")\n",
    "            dct = {\n",
    "                \"MovieID\": int(dat[0]),\n",
    "                \"Title\": dat[1],\n",
    "                \"Genre\" : [x.lower() for x in dat[2].split(\"|\")]\n",
    "                }\n",
    "            movies_list.append(dct)\n",
    "\n",
    "\n",
    "    users_list = []\n",
    "    with open(r\"ml-1m\\users.dat\", encoding= \"latin-1\") as users:\n",
    "        lines = users.readlines()\n",
    "        for line in lines :\n",
    "            dat = line.replace(\"\\n\",\"\").split(\"::\")\n",
    "            dct = {\n",
    "                \"UserID\": int(dat[0]),\n",
    "                \"Gender\": dat[1],\n",
    "                \"Age\": dat[2],\n",
    "                \"Occupation\" : int(dat[3]),\n",
    "                \"Zip-code\" : dat[4]\n",
    "                }\n",
    "            users_list.append(dct)\n",
    "\n",
    "\n",
    "    collection_ratings.insert_many(ratings_list)\n",
    "    collection_movies.insert_many(movies_list)\n",
    "    collection_users.insert_many(users_list)\n",
    "\n",
    "\n",
    "#run_load()"
   ]
  },
  {
   "cell_type": "markdown",
   "metadata": {},
   "source": [
    "* Read Data Using pyspark"
   ]
  },
  {
   "cell_type": "code",
   "execution_count": 2,
   "metadata": {},
   "outputs": [],
   "source": [
    "spark = SparkSession.builder \\\n",
    "    .appName(\"SparkJob\") \\\n",
    "    .config(\"spark.jars.packages\", \"org.mongodb.spark:mongo-spark-connector_2.12:3.0.1\") \\\n",
    "    .master(\"local[*]\") \\\n",
    "    .getOrCreate()\n",
    "\n",
    "mongo_ip = \"mongodb://127.0.0.1:27017/test.\""
   ]
  },
  {
   "cell_type": "code",
   "execution_count": 3,
   "metadata": {},
   "outputs": [],
   "source": [
    "users = spark.read.format('com.mongodb.spark.sql.DefaultSource').option(\"uri\", mongo_ip + \"users\").load()\n",
    "ratings = spark.read.format('com.mongodb.spark.sql.DefaultSource').option(\"uri\", mongo_ip + \"ratings\").load()\n",
    "movies = spark.read.format('com.mongodb.spark.sql.DefaultSource').option(\"uri\", mongo_ip + \"movies\").load()"
   ]
  },
  {
   "cell_type": "code",
   "execution_count": 4,
   "metadata": {},
   "outputs": [
    {
     "name": "stdout",
     "output_type": "stream",
     "text": [
      "+-------+------+---------+------+--------------------+\n",
      "|MovieID|Rating|Timestamp|UserID|                 _id|\n",
      "+-------+------+---------+------+--------------------+\n",
      "|   1193|     5|978300760|     1|{6647abe58c776a88...|\n",
      "|    661|     3|978302109|     1|{6647abe58c776a88...|\n",
      "|    914|     3|978301968|     1|{6647abe58c776a88...|\n",
      "|   3408|     4|978300275|     1|{6647abe58c776a88...|\n",
      "|   2355|     5|978824291|     1|{6647abe58c776a88...|\n",
      "|   1197|     3|978302268|     1|{6647abe58c776a88...|\n",
      "|   1287|     5|978302039|     1|{6647abe58c776a88...|\n",
      "|   2804|     5|978300719|     1|{6647abe58c776a88...|\n",
      "|    594|     4|978302268|     1|{6647abe58c776a88...|\n",
      "|    919|     4|978301368|     1|{6647abe58c776a88...|\n",
      "|    595|     5|978824268|     1|{6647abe58c776a88...|\n",
      "|    938|     4|978301752|     1|{6647abe58c776a88...|\n",
      "|   2398|     4|978302281|     1|{6647abe58c776a88...|\n",
      "|   2918|     4|978302124|     1|{6647abe58c776a88...|\n",
      "|   1035|     5|978301753|     1|{6647abe58c776a88...|\n",
      "|   2791|     4|978302188|     1|{6647abe58c776a88...|\n",
      "|   2687|     3|978824268|     1|{6647abe58c776a88...|\n",
      "|   2018|     4|978301777|     1|{6647abe58c776a88...|\n",
      "|   3105|     5|978301713|     1|{6647abe58c776a88...|\n",
      "|   2797|     4|978302039|     1|{6647abe58c776a88...|\n",
      "+-------+------+---------+------+--------------------+\n",
      "only showing top 20 rows\n",
      "\n"
     ]
    }
   ],
   "source": [
    "ratings.show()"
   ]
  }
 ],
 "metadata": {
  "kernelspec": {
   "display_name": "Spark",
   "language": "python",
   "name": "python3"
  },
  "language_info": {
   "codemirror_mode": {
    "name": "ipython",
    "version": 3
   },
   "file_extension": ".py",
   "mimetype": "text/x-python",
   "name": "python",
   "nbconvert_exporter": "python",
   "pygments_lexer": "ipython3",
   "version": "3.11.8"
  }
 },
 "nbformat": 4,
 "nbformat_minor": 2
}
